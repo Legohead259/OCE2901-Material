{
 "cells": [
  {
   "cell_type": "code",
   "execution_count": 34,
   "metadata": {},
   "outputs": [],
   "source": [
    "import numpy as np\n",
    "import matplotlib.pyplot as plt\n",
    "from datetime import datetime\n",
    "import util.data_util as du\n",
    "from math import cos, sin, pi, floor\n",
    "import importlib\n",
    "importlib.reload(du)\n",
    "\n",
    "%matplotlib qt\n",
    "\n",
    "HOBO = du.HOBOSensor(\"\", \"HOBO Farshore\", \"FieldDeployment_041621_Farshore.csv\")"
   ]
  },
  {
   "cell_type": "code",
   "execution_count": 35,
   "metadata": {},
   "outputs": [],
   "source": [
    "HOBO.import_data() # Import the HOBO data to memory\n",
    "start_time = np.datetime64(\"2021-04-16T09:00:00\")\n",
    "end_time = start_time + np.timedelta64(20, 's')\n",
    "start_index = np.where(HOBO.timestamp == start_time)[0][0]\n",
    "end_index = np.where(HOBO.timestamp==end_time)[0][0]\n",
    "window=(start_time, end_time)\n",
    "windowed_time = HOBO.timestamp[start_index:end_index]\n",
    "\n",
    "HOBO.plot_all_data(xlim=window)"
   ]
  },
  {
   "attachments": {},
   "cell_type": "markdown",
   "metadata": {},
   "source": [
    "## Section 2: 3D representation\n",
    "Now, we are going to represent the Time, Amplitude, and Frequency domains in a simple 3-dimensional plot to illustrate how the sinusoidal waves stack together."
   ]
  },
  {
   "cell_type": "code",
   "execution_count": 39,
   "metadata": {},
   "outputs": [],
   "source": [
    "figure_fat = plt.figure(figsize=(12,12)) # Create a figure for the 3D representation of Frequency, Amplitude, and Time\n",
    "ax_fat = figure_fat.add_subplot(projection='3d') # Create a 3D axis\n",
    "\n",
    "# Create a plot of the surface elevation over time on the X-Z plane\n",
    "t = np.divide(np.subtract(windowed_time, start_time), 1e9).astype(int) # Convert from datetime64 to integer from start_time (as 0) to end_time\n",
    "ax_fat.plot(t, HOBO.surface[start_index:end_index], zdir='y')\n",
    "\n",
    "# Create a plot of the surface elevation as a function of frequency on the Y-Z plane\n",
    "freq = np.fft.fftfreq(len(t), t[1] - t[0])\n",
    "# freq = np.linspace(0.05, 1/2, 20)\n",
    "# print(freq)\n",
    "surface_fft = np.fft.fft(HOBO.surface[start_index:end_index])\n",
    "\n",
    "for n in range(len(surface_fft)):\n",
    "    if n % 1 != 0 or freq[n] <= 0:\n",
    "        continue\n",
    "    recon_sig = np.real(surface_fft[n]) * np.cos(2*np.pi*freq[n]*t) - np.imag(surface_fft[n]) * np.sin(2*np.pi*freq[n]*t)\n",
    "    ax_fat.plot(t, recon_sig, freq[n], zdir='y')\n",
    "\n",
    "# Project the frequency domain\n",
    "ax_fat.plot(freq, np.abs(surface_fft), zdir='x')\n",
    "\n",
    "# Create a plane about the SWL (z=0)\n",
    "xx, yy = np.meshgrid(range(20), np.arange(0, max(freq), 0.1))\n",
    "# print((xx, yy))\n",
    "ax_fat.plot_surface(xx, yy, np.zeros_like(xx), alpha=0.2)\n",
    "\n",
    "# Prettify plot\n",
    "ax_fat.set_ylim(0.05, max(freq))\n",
    "ax_fat.view_init(15, -25, 0)\n",
    "ax_fat.set_xlabel(\"Time [s]\")\n",
    "ax_fat.set_ylabel(\"Frequency [Hz]\")\n",
    "ax_fat.set_zlabel(\"Surface [m]\")\n",
    "\n",
    "plt.show()"
   ]
  },
  {
   "attachments": {},
   "cell_type": "markdown",
   "metadata": {},
   "source": [
    "### Section 2.1 - Sanity Check\n",
    "We can sanity check our FFT by plotting the original time series against the reconstructed time series from the FFT"
   ]
  },
  {
   "cell_type": "code",
   "execution_count": 40,
   "metadata": {},
   "outputs": [],
   "source": [
    "# Reconstruct each individual sine wave from the FFT\n",
    "reconstructed_signal = np.zeros(len(t))\n",
    "for n in range(floor(len(surface_fft)/2)-1):\n",
    "    reconstructed_signal += (np.real(surface_fft[n]) * np.cos(2*np.pi*freq[n]*t) - np.imag(surface_fft[n]) * np.sin(2*np.pi*freq[n]*t))\n",
    "\n",
    "# Plot the noisy signal and reconstructed signal\n",
    "fig, (ax1, ax2) = plt.subplots(2, 1)\n",
    "ax1.plot(t, HOBO.surface[start_index:end_index])\n",
    "ax1.set_title('Noisy Signal')\n",
    "ax2.plot(t, reconstructed_signal)\n",
    "ax2.set_title('Reconstructed Signal')\n",
    "plt.show()"
   ]
  },
  {
   "cell_type": "code",
   "execution_count": null,
   "metadata": {},
   "outputs": [],
   "source": [
    "\n"
   ]
  }
 ],
 "metadata": {
  "kernelspec": {
   "display_name": "Python 3",
   "language": "python",
   "name": "python3"
  },
  "language_info": {
   "codemirror_mode": {
    "name": "ipython",
    "version": 3
   },
   "file_extension": ".py",
   "mimetype": "text/x-python",
   "name": "python",
   "nbconvert_exporter": "python",
   "pygments_lexer": "ipython3",
   "version": "3.10.5"
  },
  "orig_nbformat": 4,
  "vscode": {
   "interpreter": {
    "hash": "369f2c481f4da34e4445cda3fffd2e751bd1c4d706f27375911949ba6bb62e1c"
   }
  }
 },
 "nbformat": 4,
 "nbformat_minor": 2
}
