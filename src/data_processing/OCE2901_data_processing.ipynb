{
 "cells": [
  {
   "attachments": {},
   "cell_type": "markdown",
   "metadata": {},
   "source": [
    "# OCE2901 Data Processor\n",
    "By: Braidan Duffy\n",
    "\n",
    "Date created: 2023/02/07\n",
    "\n",
    "Last Revision: 2023/02/07 \n",
    "\n",
    "Version: 0.1.0\n",
    "\n",
    "## Changelog\n",
    "- Version 0.1.0: Initial version "
   ]
  },
  {
   "attachments": {},
   "cell_type": "markdown",
   "metadata": {},
   "source": [
    "## Section 0: Imports and Constants"
   ]
  },
  {
   "cell_type": "code",
   "execution_count": null,
   "metadata": {},
   "outputs": [],
   "source": [
    "import csv\n",
    "from dataclasses import dataclass\n",
    "\n",
    "DATA_DIR = \"data/\" # Default: data/\n",
    "\n",
    "\n",
    "@dataclass\n",
    "class ThreeAxisData:\n",
    "    x: float\n",
    "    y: float\n",
    "    z: float\n",
    "\n",
    "\n",
    "@dataclass\n",
    "class EulerData:\n",
    "    roll: float\n",
    "    pitch: float\n",
    "    yaw: float\n",
    "\n",
    "\n",
    "@dataclass\n",
    "class QuatData:\n",
    "    w: float\n",
    "    x: float\n",
    "    y: float\n",
    "    z: float\n",
    "\n",
    "\n",
    "@dataclass\n",
    "class IMUSensorData:\n",
    "    accel_data: ThreeAxisData\n",
    "    gyro_data: ThreeAxisData\n",
    "    mag_data: ThreeAxisData\n",
    "\n",
    "\n",
    "@dataclass\n",
    "class AHRSSensorData:\n",
    "    euler_data: tuple\n",
    "    quat_data: tuple\n",
    "\n",
    "\n",
    "# Display information for plots and such\n",
    "@dataclass\n",
    "class Sensor:\n",
    "    sensor_id: str\n",
    "    sensor_name: str\n",
    "    data_filename: str\n",
    "    imu_data: IMUSensorData\n",
    "    ahrs_data: AHRSSensorData\n",
    "    data_path: str = DATA_DIR + data_filename\n",
    "\n",
    "HOBO_NEARSHORE = Sensor(\"\", \"HOBO Nearshore\", \"\")\n",
    "HOBO_FARSHORE = Sensor(\"\", \"HOBO Farshore\", \"\")\n",
    "LOWELL_1 = Sensor(\"\", \"Lowell Surfer 1\", \"\")\n",
    "THETIS_1 = Sensor(\"\", \"Thetis Surfer 1\", \"\")\n"
   ]
  },
  {
   "attachments": {},
   "cell_type": "markdown",
   "metadata": {},
   "source": [
    "## Section 1: Import Data\n",
    "On any given deployment, we can expect to collect data time series from three different sources: a HOBO pressure gauge, a Lowell MAT-1 datalogger, and a Thetis instrumentation package.\n",
    "Each of these sensors stores its data locally in a binary format that needs to be converted to a CSV.\n",
    "This is typically done with executables packaged with each individual sensor and this step is therefore out of the scope if this script.\n",
    "So, we can start by importing the CSV data files (located in \"data\") to memory."
   ]
  },
  {
   "cell_type": "code",
   "execution_count": null,
   "metadata": {},
   "outputs": [],
   "source": []
  }
 ],
 "metadata": {
  "kernelspec": {
   "display_name": "Python 3",
   "language": "python",
   "name": "python3"
  },
  "language_info": {
   "name": "python",
   "version": "3.9.13"
  },
  "orig_nbformat": 4,
  "vscode": {
   "interpreter": {
    "hash": "c5dcd9a4c117827a3c56318419f1d8e894df291c9d1ba8bfa209a56cc872c271"
   }
  }
 },
 "nbformat": 4,
 "nbformat_minor": 2
}
