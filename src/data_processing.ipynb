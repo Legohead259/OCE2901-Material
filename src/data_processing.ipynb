{
 "cells": [
  {
   "attachments": {},
   "cell_type": "markdown",
   "metadata": {},
   "source": [
    "# OCE2901 Data Processor\n",
    "By: Braidan Duffy \\\n",
    "Date created: 2023/02/07 \\\n",
    "Last Revision: 2023/02/07 \n",
    "\n",
    "Version: 0.1.0\n",
    "\n",
    "## Changelog\n",
    "- Version 0.1.0: Initial version "
   ]
  },
  {
   "attachments": {},
   "cell_type": "markdown",
   "metadata": {},
   "source": [
    "## Section 0: Imports and Constants"
   ]
  },
  {
   "cell_type": "code",
   "execution_count": null,
   "metadata": {},
   "outputs": [],
   "source": [
    "import csv\n",
    "from dataclasses import dataclass\n",
    "from src/util/data_util import *"
   ]
  },
  {
   "attachments": {},
   "cell_type": "markdown",
   "metadata": {},
   "source": [
    "## Section 1: Import Data\n",
    "On any given deployment, we can expect to collect data time series from three different sources: a HOBO pressure gauge, a Lowell MAT-1 datalogger, and a Thetis instrumentation package.\n",
    "Each of these sensors stores its data locally in a binary format that needs to be converted to a CSV.\n",
    "This is typically done with executables packaged with each individual sensor and this step is therefore out of the scope if this script.\n",
    "So, we can start by importing the CSV data files (located in \"data\") to memory."
   ]
  },
  {
   "cell_type": "code",
   "execution_count": null,
   "metadata": {},
   "outputs": [],
   "source": []
  }
 ],
 "metadata": {
  "kernelspec": {
   "display_name": ".venv",
   "language": "python",
   "name": "python3"
  },
  "language_info": {
   "name": "python",
   "version": "3.11.1"
  },
  "orig_nbformat": 4,
  "vscode": {
   "interpreter": {
    "hash": "b98971ed1abee69d1bf89610f0315d763449b6b1c622185aad55408a41613969"
   }
  }
 },
 "nbformat": 4,
 "nbformat_minor": 2
}
