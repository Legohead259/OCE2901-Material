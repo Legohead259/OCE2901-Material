{
 "cells": [
  {
   "cell_type": "code",
   "execution_count": 6,
   "metadata": {},
   "outputs": [],
   "source": [
    "import time\n",
    "%matplotlib qt\n",
    "import matplotlib.pyplot as plt\n",
    "from matplotlib.animation import FuncAnimation\n",
    "import datetime\n",
    "import matplotlib.dates as mdates\n",
    "from collections import deque\n",
    "import numpy as np\n",
    "\n",
    "import serial\n",
    "import re\n",
    "\n",
    "PORT = \"COM18\"\n",
    "\n",
    "# How many sensor samples we want to store\n",
    "HISTORY_SIZE = 2500\n",
    "\n",
    "# Pause re-sampling the sensor and drawing for INTERVAL seconds\n",
    "INTERVAL = 0.01\n"
   ]
  },
  {
   "cell_type": "code",
   "execution_count": 7,
   "metadata": {},
   "outputs": [
    {
     "name": "stdout",
     "output_type": "stream",
     "text": [
      "Opened COM18\n",
      "None\n",
      "None\n",
      "[0.0, 0.0, 0.0, 0.0, 0.0, 0.0, 0.0, 0.0, 0.0]\n",
      "None\n",
      "[0.0, 0.0, 0.0, 0.0, 0.0, 0.0, 0.0, 0.0, 0.0]\n",
      "None\n",
      "[0.0, 0.0, 0.0, 0.0, 0.0, 0.0, 0.0, 0.0, 0.0]\n",
      "None\n",
      "[0.0, 0.0, 0.0, 0.0, 0.0, 0.0, 0.0, 0.0, 0.0]\n",
      "None\n",
      "[0.0, 0.0, 0.0, 0.0, 0.0, 0.0, 0.0, 0.0, 0.0]\n",
      "None\n",
      "[-1.99, -2.09, 8.93, 1.5, 51.4375, -28.4375, 0.0, 0.0, 0.0]\n",
      "None\n",
      "[-1.98, -2.09, 8.96, 0.375, 49.25, -28.4375, -0.13, 0.0, 0.06]\n",
      "None\n",
      "[-2.01, -2.09, 8.95, 1.8125, 49.9375, -28.8125, 0.0, 0.0, -0.13]\n",
      "None\n",
      "[-2.0, -2.08, 8.93, 0.75, 50.3125, -28.0625, 0.06, -0.25, 0.0]\n",
      "None\n"
     ]
    }
   ],
   "source": [
    "serialport = None\n",
    "\n",
    "def get_imu_data():\n",
    "    global serialport\n",
    "    if not serialport:\n",
    "        # open serial port\n",
    "        serialport = serial.Serial(PORT, 115200, timeout=0.1)\n",
    "        # check which port was really used\n",
    "        print(\"Opened\", serialport.name)\n",
    "        # Flush input\n",
    "        time.sleep(3)\n",
    "        serialport.readline()\n",
    "\n",
    "    # Poll the serial port\n",
    "    line = str(serialport.readline(), 'utf-8')\n",
    "    if not line:\n",
    "        return None\n",
    "    #print(line)\n",
    "    if not \"Uni:\" in line:\n",
    "        return None\n",
    "    vals = line.replace(\"Uni:\", \"\").strip().split(',')\n",
    "    #print(vals)\n",
    "    if len(vals) != 9:\n",
    "        return None\n",
    "    try:\n",
    "        vals = [float(i) for i in vals]\n",
    "    except ValueError:\n",
    "        return None\n",
    "    #print(vals)\n",
    "    return vals\n",
    "\n",
    "for _ in range(20):\n",
    "    print(get_imu_data())"
   ]
  },
  {
   "cell_type": "markdown",
   "metadata": {},
   "source": [
    "# Magnetometer data capture"
   ]
  },
  {
   "cell_type": "code",
   "execution_count": 8,
   "metadata": {
    "scrolled": true
   },
   "outputs": [
    {
     "name": "stderr",
     "output_type": "stream",
     "text": [
      "MovieWriter ffmpeg unavailable; using Pillow instead.\n"
     ]
    },
    {
     "name": "stdout",
     "output_type": "stream",
     "text": [
      "Opened COM18\n"
     ]
    },
    {
     "ename": "ValueError",
     "evalue": "unknown file extension: .mp4",
     "output_type": "error",
     "traceback": [
      "\u001b[1;31m---------------------------------------------------------------------------\u001b[0m",
      "\u001b[1;31mKeyboardInterrupt\u001b[0m                         Traceback (most recent call last)",
      "File \u001b[1;32m~\\AppData\\Roaming\\Python\\Python310\\site-packages\\matplotlib\\animation.py:234\u001b[0m, in \u001b[0;36mAbstractMovieWriter.saving\u001b[1;34m(self, fig, outfile, dpi, *args, **kwargs)\u001b[0m\n\u001b[0;32m    233\u001b[0m \u001b[39mtry\u001b[39;00m:\n\u001b[1;32m--> 234\u001b[0m     \u001b[39myield\u001b[39;00m \u001b[39mself\u001b[39m\n\u001b[0;32m    235\u001b[0m \u001b[39mfinally\u001b[39;00m:\n",
      "File \u001b[1;32m~\\AppData\\Roaming\\Python\\Python310\\site-packages\\matplotlib\\animation.py:1089\u001b[0m, in \u001b[0;36mAnimation.save\u001b[1;34m(self, filename, writer, fps, dpi, codec, bitrate, extra_args, metadata, extra_anim, savefig_kwargs, progress_callback)\u001b[0m\n\u001b[0;32m   1087\u001b[0m \u001b[39mfor\u001b[39;00m anim, d \u001b[39min\u001b[39;00m \u001b[39mzip\u001b[39m(all_anim, data):\n\u001b[0;32m   1088\u001b[0m     \u001b[39m# TODO: See if turning off blit is really necessary\u001b[39;00m\n\u001b[1;32m-> 1089\u001b[0m     anim\u001b[39m.\u001b[39;49m_draw_next_frame(d, blit\u001b[39m=\u001b[39;49m\u001b[39mFalse\u001b[39;49;00m)\n\u001b[0;32m   1090\u001b[0m     \u001b[39mif\u001b[39;00m progress_callback \u001b[39mis\u001b[39;00m \u001b[39mnot\u001b[39;00m \u001b[39mNone\u001b[39;00m:\n",
      "File \u001b[1;32m~\\AppData\\Roaming\\Python\\Python310\\site-packages\\matplotlib\\animation.py:1124\u001b[0m, in \u001b[0;36mAnimation._draw_next_frame\u001b[1;34m(self, framedata, blit)\u001b[0m\n\u001b[0;32m   1123\u001b[0m \u001b[39mself\u001b[39m\u001b[39m.\u001b[39m_pre_draw(framedata, blit)\n\u001b[1;32m-> 1124\u001b[0m \u001b[39mself\u001b[39;49m\u001b[39m.\u001b[39;49m_draw_frame(framedata)\n\u001b[0;32m   1125\u001b[0m \u001b[39mself\u001b[39m\u001b[39m.\u001b[39m_post_draw(framedata, blit)\n",
      "File \u001b[1;32m~\\AppData\\Roaming\\Python\\Python310\\site-packages\\matplotlib\\animation.py:1718\u001b[0m, in \u001b[0;36mFuncAnimation._draw_frame\u001b[1;34m(self, framedata)\u001b[0m\n\u001b[0;32m   1716\u001b[0m \u001b[39m# Call the func with framedata and args. If blitting is desired,\u001b[39;00m\n\u001b[0;32m   1717\u001b[0m \u001b[39m# func needs to return a sequence of any artists that were modified.\u001b[39;00m\n\u001b[1;32m-> 1718\u001b[0m \u001b[39mself\u001b[39m\u001b[39m.\u001b[39m_drawn_artists \u001b[39m=\u001b[39m \u001b[39mself\u001b[39;49m\u001b[39m.\u001b[39;49m_func(framedata, \u001b[39m*\u001b[39;49m\u001b[39mself\u001b[39;49m\u001b[39m.\u001b[39;49m_args)\n\u001b[0;32m   1720\u001b[0m \u001b[39mif\u001b[39;00m \u001b[39mself\u001b[39m\u001b[39m.\u001b[39m_blit:\n",
      "Cell \u001b[1;32mIn [8], line 24\u001b[0m, in \u001b[0;36manimate\u001b[1;34m(i)\u001b[0m\n\u001b[0;32m     23\u001b[0m \u001b[39mfor\u001b[39;00m _ \u001b[39min\u001b[39;00m \u001b[39mrange\u001b[39m(\u001b[39m30\u001b[39m):\n\u001b[1;32m---> 24\u001b[0m     ret \u001b[39m=\u001b[39m get_imu_data()\n\u001b[0;32m     25\u001b[0m     \u001b[39mif\u001b[39;00m \u001b[39mnot\u001b[39;00m ret:\n",
      "Cell \u001b[1;32mIn [7], line 15\u001b[0m, in \u001b[0;36mget_imu_data\u001b[1;34m()\u001b[0m\n\u001b[0;32m     14\u001b[0m \u001b[39m# Poll the serial port\u001b[39;00m\n\u001b[1;32m---> 15\u001b[0m line \u001b[39m=\u001b[39m \u001b[39mstr\u001b[39m(serialport\u001b[39m.\u001b[39;49mreadline(), \u001b[39m'\u001b[39m\u001b[39mutf-8\u001b[39m\u001b[39m'\u001b[39m)\n\u001b[0;32m     16\u001b[0m \u001b[39mif\u001b[39;00m \u001b[39mnot\u001b[39;00m line:\n",
      "File \u001b[1;32mc:\\Python310\\lib\\site-packages\\serial\\serialwin32.py:288\u001b[0m, in \u001b[0;36mSerial.read\u001b[1;34m(self, size)\u001b[0m\n\u001b[0;32m    287\u001b[0m     \u001b[39mraise\u001b[39;00m SerialException(\u001b[39m\"\u001b[39m\u001b[39mReadFile failed (\u001b[39m\u001b[39m{!r}\u001b[39;00m\u001b[39m)\u001b[39m\u001b[39m\"\u001b[39m\u001b[39m.\u001b[39mformat(ctypes\u001b[39m.\u001b[39mWinError()))\n\u001b[1;32m--> 288\u001b[0m result_ok \u001b[39m=\u001b[39m win32\u001b[39m.\u001b[39;49mGetOverlappedResult(\n\u001b[0;32m    289\u001b[0m     \u001b[39mself\u001b[39;49m\u001b[39m.\u001b[39;49m_port_handle,\n\u001b[0;32m    290\u001b[0m     ctypes\u001b[39m.\u001b[39;49mbyref(\u001b[39mself\u001b[39;49m\u001b[39m.\u001b[39;49m_overlapped_read),\n\u001b[0;32m    291\u001b[0m     ctypes\u001b[39m.\u001b[39;49mbyref(rc),\n\u001b[0;32m    292\u001b[0m     \u001b[39mTrue\u001b[39;49;00m)\n\u001b[0;32m    293\u001b[0m \u001b[39mif\u001b[39;00m \u001b[39mnot\u001b[39;00m result_ok:\n",
      "\u001b[1;31mKeyboardInterrupt\u001b[0m: ",
      "\nDuring handling of the above exception, another exception occurred:\n",
      "\u001b[1;31mKeyError\u001b[0m                                  Traceback (most recent call last)",
      "File \u001b[1;32mc:\\Python310\\lib\\site-packages\\PIL\\Image.py:2298\u001b[0m, in \u001b[0;36mImage.save\u001b[1;34m(self, fp, format, **params)\u001b[0m\n\u001b[0;32m   2297\u001b[0m \u001b[39mtry\u001b[39;00m:\n\u001b[1;32m-> 2298\u001b[0m     \u001b[39mformat\u001b[39m \u001b[39m=\u001b[39m EXTENSION[ext]\n\u001b[0;32m   2299\u001b[0m \u001b[39mexcept\u001b[39;00m \u001b[39mKeyError\u001b[39;00m \u001b[39mas\u001b[39;00m e:\n",
      "\u001b[1;31mKeyError\u001b[0m: '.mp4'",
      "\nThe above exception was the direct cause of the following exception:\n",
      "\u001b[1;31mValueError\u001b[0m                                Traceback (most recent call last)",
      "Cell \u001b[1;32mIn [8], line 48\u001b[0m\n\u001b[0;32m     46\u001b[0m     fig\u001b[39m.\u001b[39mcanvas\u001b[39m.\u001b[39mmpl_connect(\u001b[39m'\u001b[39m\u001b[39mbutton_press_event\u001b[39m\u001b[39m'\u001b[39m, onClick)    \n\u001b[0;32m     47\u001b[0m     anim \u001b[39m=\u001b[39m FuncAnimation(fig, animate)\n\u001b[1;32m---> 48\u001b[0m     anim\u001b[39m.\u001b[39;49msave(\u001b[39m\"\u001b[39;49m\u001b[39mtest.mp4\u001b[39;49m\u001b[39m\"\u001b[39;49m)\n\u001b[0;32m     49\u001b[0m \u001b[39mexcept\u001b[39;00m (\u001b[39mKeyboardInterrupt\u001b[39;00m):\n\u001b[0;32m     50\u001b[0m     anim\u001b[39m.\u001b[39msave(\u001b[39m\"\u001b[39m\u001b[39mtest.mp4\u001b[39m\u001b[39m\"\u001b[39m)\n",
      "File \u001b[1;32m~\\AppData\\Roaming\\Python\\Python310\\site-packages\\matplotlib\\animation.py:1071\u001b[0m, in \u001b[0;36mAnimation.save\u001b[1;34m(self, filename, writer, fps, dpi, codec, bitrate, extra_args, metadata, extra_anim, savefig_kwargs, progress_callback)\u001b[0m\n\u001b[0;32m   1065\u001b[0m     _log\u001b[39m.\u001b[39minfo(\u001b[39m\"\u001b[39m\u001b[39mDisabling savefig.bbox = \u001b[39m\u001b[39m'\u001b[39m\u001b[39mtight\u001b[39m\u001b[39m'\u001b[39m\u001b[39m, as it may cause \u001b[39m\u001b[39m\"\u001b[39m\n\u001b[0;32m   1066\u001b[0m               \u001b[39m\"\u001b[39m\u001b[39mframe size to vary, which is inappropriate for \u001b[39m\u001b[39m\"\u001b[39m\n\u001b[0;32m   1067\u001b[0m               \u001b[39m\"\u001b[39m\u001b[39manimation.\u001b[39m\u001b[39m\"\u001b[39m)\n\u001b[0;32m   1068\u001b[0m \u001b[39m# canvas._is_saving = True makes the draw_event animation-starting\u001b[39;00m\n\u001b[0;32m   1069\u001b[0m \u001b[39m# callback a no-op; canvas.manager = None prevents resizing the GUI\u001b[39;00m\n\u001b[0;32m   1070\u001b[0m \u001b[39m# widget (both are likewise done in savefig()).\u001b[39;00m\n\u001b[1;32m-> 1071\u001b[0m \u001b[39mwith\u001b[39;00m mpl\u001b[39m.\u001b[39mrc_context({\u001b[39m'\u001b[39m\u001b[39msavefig.bbox\u001b[39m\u001b[39m'\u001b[39m: \u001b[39mNone\u001b[39;00m}), \\\n\u001b[0;32m   1072\u001b[0m      writer\u001b[39m.\u001b[39msaving(\u001b[39mself\u001b[39m\u001b[39m.\u001b[39m_fig, filename, dpi), \\\n\u001b[0;32m   1073\u001b[0m      cbook\u001b[39m.\u001b[39m_setattr_cm(\u001b[39mself\u001b[39m\u001b[39m.\u001b[39m_fig\u001b[39m.\u001b[39mcanvas,\n\u001b[0;32m   1074\u001b[0m                        _is_saving\u001b[39m=\u001b[39m\u001b[39mTrue\u001b[39;00m, manager\u001b[39m=\u001b[39m\u001b[39mNone\u001b[39;00m):\n\u001b[0;32m   1075\u001b[0m     \u001b[39mfor\u001b[39;00m anim \u001b[39min\u001b[39;00m all_anim:\n\u001b[0;32m   1076\u001b[0m         anim\u001b[39m.\u001b[39m_init_draw()  \u001b[39m# Clear the initial frame\u001b[39;00m\n",
      "File \u001b[1;32mc:\\Python310\\lib\\contextlib.py:153\u001b[0m, in \u001b[0;36m_GeneratorContextManager.__exit__\u001b[1;34m(self, typ, value, traceback)\u001b[0m\n\u001b[0;32m    151\u001b[0m     value \u001b[39m=\u001b[39m typ()\n\u001b[0;32m    152\u001b[0m \u001b[39mtry\u001b[39;00m:\n\u001b[1;32m--> 153\u001b[0m     \u001b[39mself\u001b[39;49m\u001b[39m.\u001b[39;49mgen\u001b[39m.\u001b[39;49mthrow(typ, value, traceback)\n\u001b[0;32m    154\u001b[0m \u001b[39mexcept\u001b[39;00m \u001b[39mStopIteration\u001b[39;00m \u001b[39mas\u001b[39;00m exc:\n\u001b[0;32m    155\u001b[0m     \u001b[39m# Suppress StopIteration *unless* it's the same exception that\u001b[39;00m\n\u001b[0;32m    156\u001b[0m     \u001b[39m# was passed to throw().  This prevents a StopIteration\u001b[39;00m\n\u001b[0;32m    157\u001b[0m     \u001b[39m# raised inside the \"with\" statement from being suppressed.\u001b[39;00m\n\u001b[0;32m    158\u001b[0m     \u001b[39mreturn\u001b[39;00m exc \u001b[39mis\u001b[39;00m \u001b[39mnot\u001b[39;00m value\n",
      "File \u001b[1;32m~\\AppData\\Roaming\\Python\\Python310\\site-packages\\matplotlib\\animation.py:236\u001b[0m, in \u001b[0;36mAbstractMovieWriter.saving\u001b[1;34m(self, fig, outfile, dpi, *args, **kwargs)\u001b[0m\n\u001b[0;32m    234\u001b[0m     \u001b[39myield\u001b[39;00m \u001b[39mself\u001b[39m\n\u001b[0;32m    235\u001b[0m \u001b[39mfinally\u001b[39;00m:\n\u001b[1;32m--> 236\u001b[0m     \u001b[39mself\u001b[39;49m\u001b[39m.\u001b[39;49mfinish()\n",
      "File \u001b[1;32m~\\AppData\\Roaming\\Python\\Python310\\site-packages\\matplotlib\\animation.py:512\u001b[0m, in \u001b[0;36mPillowWriter.finish\u001b[1;34m(self)\u001b[0m\n\u001b[0;32m    511\u001b[0m \u001b[39mdef\u001b[39;00m \u001b[39mfinish\u001b[39m(\u001b[39mself\u001b[39m):\n\u001b[1;32m--> 512\u001b[0m     \u001b[39mself\u001b[39;49m\u001b[39m.\u001b[39;49m_frames[\u001b[39m0\u001b[39;49m]\u001b[39m.\u001b[39;49msave(\n\u001b[0;32m    513\u001b[0m         \u001b[39mself\u001b[39;49m\u001b[39m.\u001b[39;49moutfile, save_all\u001b[39m=\u001b[39;49m\u001b[39mTrue\u001b[39;49;00m, append_images\u001b[39m=\u001b[39;49m\u001b[39mself\u001b[39;49m\u001b[39m.\u001b[39;49m_frames[\u001b[39m1\u001b[39;49m:],\n\u001b[0;32m    514\u001b[0m         duration\u001b[39m=\u001b[39;49m\u001b[39mint\u001b[39;49m(\u001b[39m1000\u001b[39;49m \u001b[39m/\u001b[39;49m \u001b[39mself\u001b[39;49m\u001b[39m.\u001b[39;49mfps), loop\u001b[39m=\u001b[39;49m\u001b[39m0\u001b[39;49m)\n",
      "File \u001b[1;32mc:\\Python310\\lib\\site-packages\\PIL\\Image.py:2300\u001b[0m, in \u001b[0;36mImage.save\u001b[1;34m(self, fp, format, **params)\u001b[0m\n\u001b[0;32m   2298\u001b[0m         \u001b[39mformat\u001b[39m \u001b[39m=\u001b[39m EXTENSION[ext]\n\u001b[0;32m   2299\u001b[0m     \u001b[39mexcept\u001b[39;00m \u001b[39mKeyError\u001b[39;00m \u001b[39mas\u001b[39;00m e:\n\u001b[1;32m-> 2300\u001b[0m         \u001b[39mraise\u001b[39;00m \u001b[39mValueError\u001b[39;00m(\u001b[39mf\u001b[39m\u001b[39m\"\u001b[39m\u001b[39munknown file extension: \u001b[39m\u001b[39m{\u001b[39;00mext\u001b[39m}\u001b[39;00m\u001b[39m\"\u001b[39m) \u001b[39mfrom\u001b[39;00m \u001b[39me\u001b[39;00m\n\u001b[0;32m   2302\u001b[0m \u001b[39mif\u001b[39;00m \u001b[39mformat\u001b[39m\u001b[39m.\u001b[39mupper() \u001b[39mnot\u001b[39;00m \u001b[39min\u001b[39;00m SAVE:\n\u001b[0;32m   2303\u001b[0m     init()\n",
      "\u001b[1;31mValueError\u001b[0m: unknown file extension: .mp4"
     ]
    }
   ],
   "source": [
    "# Deque for axes\n",
    "mag_x = deque(maxlen=HISTORY_SIZE)\n",
    "mag_y = deque(maxlen=HISTORY_SIZE)\n",
    "mag_z = deque(maxlen=HISTORY_SIZE)\n",
    "\n",
    "fig, ax = plt.subplots(1, 1)\n",
    "ax.set_aspect(1)\n",
    "\n",
    "# close port in case its open\n",
    "if serialport:\n",
    "    try:\n",
    "        serialport.close()\n",
    "    except NameError:\n",
    "        pass\n",
    "\n",
    "serialport = None\n",
    "anim = None\n",
    "\n",
    "def onClick(event):\n",
    "    anim.event_source.stop()\n",
    "    \n",
    "def animate(i):\n",
    "    for _ in range(30):\n",
    "        ret = get_imu_data()\n",
    "        if not ret:\n",
    "            continue\n",
    "        x, y, z = ret[6:9]\n",
    "        mag_x.append(x)\n",
    "        mag_y.append(y)\n",
    "        mag_z.append(z)\n",
    "\n",
    "    # Clear all axis\n",
    "    ax.cla()\n",
    "\n",
    "    # Display the sub-plots\n",
    "    ax.scatter(mag_x, mag_y, color='r')\n",
    "    ax.scatter(mag_y, mag_z, color='g')\n",
    "    ax.scatter(mag_z, mag_x, color='b')\n",
    "    \n",
    "    if len(mag_x) == HISTORY_SIZE:\n",
    "        anim.event_source.stop()\n",
    "    # Pause the plot for INTERVAL seconds \n",
    "    plt.pause(INTERVAL)\n",
    "\n",
    "try:\n",
    "    fig.canvas.mpl_connect('button_press_event', onClick)    \n",
    "    anim = FuncAnimation(fig, animate)\n",
    "    anim.save(\"test.mp4\")\n",
    "except (KeyboardInterrupt):\n",
    "    anim.save(\"test.mp4\")"
   ]
  },
  {
   "cell_type": "code",
   "execution_count": 9,
   "metadata": {
    "scrolled": true
   },
   "outputs": [
    {
     "name": "stdout",
     "output_type": "stream",
     "text": [
      "X range:  -1223.25 1350.19\n",
      "Y range:  -640.44 643.81\n",
      "Z range:  -569.12 767.44\n",
      "Final calibration in uTesla: [63.47000000000003, 1.6849999999999454, 99.16000000000003]\n"
     ]
    }
   ],
   "source": [
    "min_x = min(mag_x)\n",
    "max_x = max(mag_x)\n",
    "min_y = min(mag_y)\n",
    "max_y = max(mag_y)\n",
    "min_z = min(mag_z)\n",
    "max_z = max(mag_z)\n",
    "\n",
    "print(\"X range: \", min_x, max_x)\n",
    "print(\"Y range: \", min_y, max_y)\n",
    "print(\"Z range: \", min_z, max_z)\n",
    "\n",
    "mag_calibration = [ (max_x + min_x) / 2, (max_y + min_y) / 2, (max_z + min_z) / 2]\n",
    "print(\"Final calibration in uTesla:\", mag_calibration)\n",
    "\n",
    "cal_mag_x = [x - mag_calibration[0] for x in mag_x]\n",
    "cal_mag_y = [y - mag_calibration[1] for y in mag_y]\n",
    "cal_mag_z = [z - mag_calibration[2] for z in mag_z]\n",
    "\n",
    "fig, ax = plt.subplots(1, 1)\n",
    "ax.set_aspect(1)\n",
    "\n",
    "# Clear all axis\n",
    "ax.cla()\n",
    "\n",
    "# Display the now calibrated data\n",
    "ax.scatter(cal_mag_x, cal_mag_y, color='r')\n",
    "ax.scatter(cal_mag_y, cal_mag_z, color='g')\n",
    "ax.scatter(cal_mag_z, cal_mag_x, color='b')\n",
    "fig.show()"
   ]
  },
  {
   "cell_type": "markdown",
   "metadata": {},
   "source": [
    "# Gyroscope offset calibration"
   ]
  },
  {
   "cell_type": "code",
   "execution_count": 10,
   "metadata": {
    "scrolled": false
   },
   "outputs": [
    {
     "name": "stdout",
     "output_type": "stream",
     "text": [
      "Put down the board and do not touch or move it!\n",
      "3...2...1...COLLECTING GYRO DATA\n",
      "Opened COM18\n",
      "Gyro X range:  22.1875 24.6875\n",
      "Gyro Y range:  25.375 27.875\n",
      "Gyro Z range:  -17.8125 -14.75\n",
      "Final calibration in rad/s: [23.4375, 26.625, -16.28125]\n"
     ]
    }
   ],
   "source": [
    "print(\"Put down the board and do not touch or move it!\")\n",
    "for s in range(3, 0, -1):\n",
    "    print(s, end='...')\n",
    "    time.sleep(1)\n",
    "print(\"COLLECTING GYRO DATA\")\n",
    "\n",
    "# close port in case its open\n",
    "if serialport:\n",
    "    try:\n",
    "        serialport.close()\n",
    "    except NameError:\n",
    "        pass\n",
    "\n",
    "serialport = None\n",
    "\n",
    "# Deque for axes\n",
    "gyro_x = deque(maxlen=HISTORY_SIZE//10)\n",
    "gyro_y = deque(maxlen=HISTORY_SIZE//10)\n",
    "gyro_z = deque(maxlen=HISTORY_SIZE//10)\n",
    "while len(gyro_x) < (HISTORY_SIZE//10):\n",
    "    ret = get_imu_data()\n",
    "    #print(ret)\n",
    "    if not ret:\n",
    "        continue\n",
    "    x, y, z = ret[3:6]\n",
    "    gyro_x.append(x)\n",
    "    gyro_y.append(y)\n",
    "    gyro_z.append(z)\n",
    "\n",
    "for _ in range(3):\n",
    "    gyro_x.popleft()\n",
    "    gyro_y.popleft()\n",
    "    gyro_z.popleft()\n",
    "\n",
    "min_x = min(gyro_x)\n",
    "max_x = max(gyro_x)\n",
    "min_y = min(gyro_y)\n",
    "max_y = max(gyro_y)\n",
    "min_z = min(gyro_z)\n",
    "max_z = max(gyro_z)\n",
    "\n",
    "print(\"Gyro X range: \", min_x, max_x)\n",
    "print(\"Gyro Y range: \", min_y, max_y)\n",
    "print(\"Gyro Z range: \", min_z, max_z)\n",
    "\n",
    "gyro_calibration = [ (max_x + min_x) / 2, (max_y + min_y) / 2, (max_z + min_z) / 2]\n",
    "print(\"Final calibration in rad/s:\", gyro_calibration)\n",
    "\n",
    "fig, (uncal, cal) = plt.subplots(2, 1)\n",
    "\n",
    "# Clear all axis\n",
    "uncal.cla()\n",
    "t = np.linspace(0, len(gyro_x), len(gyro_x))\n",
    "# plot uncalibrated data\n",
    "uncal.plot(t, gyro_x, color='r')\n",
    "uncal.plot(t, gyro_y, color='g')\n",
    "uncal.plot(t, gyro_z, color='b')\n",
    "uncal.title.set_text(\"Uncalibrated Gyro\")\n",
    "uncal.set(ylabel='Radians/s')\n",
    "# plot calibrated data\n",
    "cal.plot(t, [x - gyro_calibration[0] for x in gyro_x], color='r')\n",
    "cal.plot(t, [y - gyro_calibration[1] for y in gyro_y], color='g')\n",
    "cal.plot(t, [z - gyro_calibration[2] for z in gyro_z], color='b')\n",
    "cal.title.set_text(\"Calibrated Gyro\")\n",
    "cal.set(ylabel='Radians/s')\n",
    "\n",
    "fig.tight_layout()\n",
    "fig.show()\n",
    "serialport.close()"
   ]
  },
  {
   "cell_type": "code",
   "execution_count": null,
   "metadata": {},
   "outputs": [],
   "source": []
  }
 ],
 "metadata": {
  "kernelspec": {
   "display_name": "Python 3",
   "language": "python",
   "name": "python3"
  },
  "language_info": {
   "codemirror_mode": {
    "name": "ipython",
    "version": 3
   },
   "file_extension": ".py",
   "mimetype": "text/x-python",
   "name": "python",
   "nbconvert_exporter": "python",
   "pygments_lexer": "ipython3",
   "version": "3.10.5"
  },
  "vscode": {
   "interpreter": {
    "hash": "369f2c481f4da34e4445cda3fffd2e751bd1c4d706f27375911949ba6bb62e1c"
   }
  }
 },
 "nbformat": 4,
 "nbformat_minor": 2
}
